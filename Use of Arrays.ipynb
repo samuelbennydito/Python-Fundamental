{
  "nbformat": 4,
  "nbformat_minor": 0,
  "metadata": {
    "colab": {
      "name": "Penggunaan Array",
      "private_outputs": true,
      "provenance": []
    },
    "kernelspec": {
      "name": "python3",
      "display_name": "Python 3"
    },
    "language_info": {
      "name": "python"
    }
  },
  "cells": [
    {
      "cell_type": "markdown",
      "source": [
        "Konsep Array\n",
        "\n",
        "Array atau List merupakan tempat untuk mengumpulkan banyak value di satu variabel"
      ],
      "metadata": {
        "id": "dKkIp9OLKTqi"
      }
    },
    {
      "cell_type": "code",
      "execution_count": null,
      "metadata": {
        "id": "Z-dXZwyJKShy"
      },
      "outputs": [],
      "source": [
        "buah=[\"apel\", \"jeruk\", \"semangka\", \"melon\", \"naga\"]\n",
        "\n",
        "print(len(buah)) # untuk menghitung jumlah elemen isi yang dimulai dari 1\n",
        "print(buah[3]) # untuk mencetak satu value yang dimulai dari 0\n",
        "\n",
        "print(buah) # melakukan print langsung keseluruhan\n",
        "\n",
        "for i in range (len(buah)): # untuk mencetak value di buah secara berurutan (beda posisi dengan sebelumnya)\n",
        "  print(buah[i])\n",
        "\n",
        "for i in buah: #sama seperti sebelumnya, namun beda sintaks saja \n",
        "  print(i)"
      ]
    },
    {
      "cell_type": "code",
      "source": [
        "list_string = [\"a\",\"b\",\"c\"]\n",
        "list_int = [1,2,3]\n",
        "list_bool = [True, False, True]\n",
        "\n",
        "buah.append(\"Wortel\") # fungsi untuk menambahkan, langsung masuk ke posisi terakhir\n",
        "print(buah)\n",
        "\n",
        "buah.insert(1, \"Sirsak\") # fungsi untuk menyisipkan pengen di posisi mana\n",
        "print(buah)\n",
        "\n",
        "buah.pop(2) # fungsi untuk menghilangkan elemen yang ada di list dengan menggunakan indeks\n",
        "print(buah)\n",
        "\n",
        "buah.remove(\"apel\") # fungsi untuk menghilangkan elemen yang ada di list dengan menggunakan nama elemen\n",
        "print(buah)"
      ],
      "metadata": {
        "id": "-BbCw3EjEzrm"
      },
      "execution_count": null,
      "outputs": []
    },
    {
      "cell_type": "code",
      "source": [
        "list_mobil = [\"Inova\", \"Avanza\", \"Rush\", \"BMW\"]\n",
        "list_baru_del = []\n",
        "'''\n",
        "value_baru = list_mobil[2]\n",
        "list_mobil.pop(2)\n",
        "list_baru_del.append(value_baru)\n",
        "print(list_baru_del)\n",
        "'''\n",
        "'''\n",
        "list_baru_del.append(list_mobil[2])\n",
        "list_mobil.pop(2)\n",
        "print(list_baru_del)\n",
        "'''\n",
        "\n",
        "list_baru_del.append(list_mobil.pop(2))\n",
        "list_baru_del"
      ],
      "metadata": {
        "id": "iq1P98DlFU8k"
      },
      "execution_count": null,
      "outputs": []
    },
    {
      "cell_type": "code",
      "source": [
        "#pake pop indeks berapa yang kehapus\n",
        "#pake remove harus dengan nama yang sama"
      ],
      "metadata": {
        "id": "ynkhxHoKFAnD"
      },
      "execution_count": null,
      "outputs": []
    },
    {
      "cell_type": "code",
      "source": [
        "list_mobil = [\"Inova\", \"Avanza\", \"Rush\", \"BMW\", \"Suzuki\", \"MERSI\", \"Wuling\"]\n",
        "\n",
        "# kalau minus hitung mundur\n",
        "# start : stop : step\n",
        "# ingattt, jika dari kiri ke kanan, mulai dari 0 dan tidak sampai ke datanya \n",
        "# ingattt,  jika dari kanan ke kiri, mulai dari -1 dan sampai ke datanya \n",
        "\n",
        "print(list_mobil[1:4]) # artinya ngambil dari data ke-1 sampai ke 3\n",
        "print(list_mobil[3:]) # artinya, eleman ada di indeks 3, ngambil data ke belakang (hint : perhatikan posisi titik dua)\n",
        "print(list_mobil[:3]) # artinya, elemen ada di indeks 3, ngambil data ke depan\n",
        "print(list_mobil[-3:]) # artinya, elemen ada di indeks -3, ngambil data ke  belakang\n",
        "print(list_mobil[:-3]) # artinya, elemen ada di indeks -3, ngambil data ke depan\n",
        "print(list_mobil[1:4:2]) # artinya, start mulai dari indeks 1 sampai indeks 3, dengan step 2 \n",
        "print(list_mobil[::3]) # artinya, start dimulai dari indeks 0, dengan step 3\n",
        "print(list_mobil[2::3]) # artinya, start dimulai dari indeks 2, dengan step 3\n",
        "print(list_mobil[:3:2]) # artinya, start dimulai dari indeks 0 sampai indeks 2, dengan step 2"
      ],
      "metadata": {
        "id": "_cYGD-VQLUS0"
      },
      "execution_count": null,
      "outputs": []
    },
    {
      "cell_type": "code",
      "source": [
        "list_mobil = [\"Inova\", \"Avanza\", \"Rush\", \"BMW\", \"Suzuki\", \"MERSI\", \"Wuling\"]\n",
        "list_mobil[0:1] = [\"Hotwils\", \"Gacor\"]\n",
        "print(list_mobil)\n",
        "list_mobil[0]= \"Samuel\"\n",
        "print(list_mobil)\n"
      ],
      "metadata": {
        "id": "lA48LGTuPwc3"
      },
      "execution_count": null,
      "outputs": []
    }
  ]
}
