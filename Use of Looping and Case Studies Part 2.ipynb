{
  "nbformat": 4,
  "nbformat_minor": 0,
  "metadata": {
    "colab": {
      "name": "Penggunaan Perulangan dan Studi Kasus Part 2",
      "private_outputs": true,
      "provenance": []
    },
    "kernelspec": {
      "name": "python3",
      "display_name": "Python 3"
    },
    "language_info": {
      "name": "python"
    }
  },
  "cells": [
    {
      "cell_type": "code",
      "source": [
        "input1 = int(input(\"Masukkan jumlah orang yang ingin diinput: \"))\n",
        "inputnext = input1\n",
        "nkali = 0\n",
        "for i in range(input1):\n",
        "  inputnext = int(input(\"Masukkan tinggi  : \")) \n",
        "  nkali = nkali + 1\n",
        "  print (nkali)\n",
        "if inputnext >= 151 and inputnext <= 160:\n",
        "  print(\"Jumlah orang yang cocok menggunakan baju S:\", nkali)\n",
        "elif inputnext >= 161 and inputnext <= 170:\n",
        "  print(\"Jumlah orang yang cocok menggunakan baju M:\", nkali)\n",
        "elif inputnext >= 171 and inputnext <= 180:\n",
        "  print(\"Jumlah orang yang cocok menggunakan baju L:\", nkali)\n",
        "elif inputnext >= 181 and inputnext <= 190:\n",
        "  print(\"Jumlah orang yang cocok menggunakan baju XL:\", nkali)\n",
        "\n",
        "else:\n",
        "  print(\"Masukkan tinggi badan mulai dari 151 - 190 yaa!\")\n",
        "  input1 = int(input(\"Masukkan jumlah orang yang ingin diinput: \"))\n",
        "  inputnext = input1\n",
        "  nkali = 0\n",
        "  for i in range(input1): \n",
        "    inputnext = int(input(\"Masukkan tinggi  : \"))\n",
        "    nkali = nkali + 1\n",
        "    print (nkali)\n",
        "  if inputnext >= 151 and inputnext <= 160:\n",
        "    print(\"Jumlah orang yang cocok menggunakan baju S:\", nkali)\n",
        "  if inputnext >= 161 and inputnext <= 170:\n",
        "    print(\"Jumlah orang yang cocok menggunakan baju M:\", nkali)\n",
        "  if inputnext >= 171 and inputnext <= 180:\n",
        "    print(\"Jumlah orang yang cocok menggunakan baju L:\", nkali)\n",
        "  if inputnext >= 181 and inputnext <= 190:\n",
        "    print(\"Jumlah orang yang cocok menggunakan baju XL:\", nkali)\n",
        "\n",
        "print(\"Tinggi maksimal:\", max(inputnext))\n",
        "print(\"Tinggi minimal:\", min(inputnext))\n",
        "print(\"Rata-rata:\", sum(inputnext)/len(inputnext))\n",
        "print(\"Modus ukuran baju:\", )"
      ],
      "metadata": {
        "id": "eDxh4y1FsnPH"
      },
      "execution_count": null,
      "outputs": []
    },
    {
      "cell_type": "code",
      "source": [
        "n_orang = int(input(\"Masukkan berapa orang yang diinginkan:\"))\n",
        "\n",
        "tinggi_maksimal = 0\n",
        "tinggi_minimal = 200\n",
        "total_tinggi_badan = 0\n",
        "u_s = 0\n",
        "u_m = 0\n",
        "u_l = 0\n",
        "u_xl = 0\n",
        "jumlah_maksimal = 0\n",
        "huruf_size = \"A\"\n",
        "\n",
        "for i in range(n_orang):\n",
        "  tinggi_badan = int(input(\"Masukkan tinggi badan: \"))\n",
        "  while tinggi_badan<151 or tinggi_badan>190:\n",
        "    print(\"Hay, tolong masukkan dari 151 sampai 190 aja yaa!\")\n",
        "    tinggi_badan = int(input(\"Masukkan tinggi badan:\"))\n",
        "  \n",
        "  total_tinggi_badan = total_tinggi_badan + tinggi_badan \n",
        "  \n",
        "  if tinggi_badan > tinggi_maksimal:\n",
        "    tinggi_maksimal = tinggi_badan\n",
        "  if tinggi_badan < tinggi_minimal:\n",
        "    tinggi_minimal = tinggi_badan\n",
        "  \n",
        "  if tinggi_badan >= 151 and tinggi_badan <= 160:\n",
        "    u_s += 1\n",
        "  elif tinggi_badan >= 161 and tinggi_badan <= 170:\n",
        "    u_m += 1\n",
        "  elif tinggi_badan >= 171 and tinggi_badan <= 180:\n",
        "    u_l += 1\n",
        "  elif tinggi_badan >= 181 and tinggi_badan <= 190:\n",
        "    u_xl += 1\n",
        "  \n",
        "  if u_s > jumlah_maksimal:\n",
        "    jumlah_maksimal = u_s\n",
        "    huruf_size = \"S\"\n",
        "  if u_m > jumlah_maksimal:\n",
        "    jumlah_maksimal = u_m\n",
        "    huruf_size = \"M\"\n",
        "  if u_l > jumlah_maksimal:\n",
        "    jumlah_maksimal = u_l\n",
        "    huruf_size = \"L\"\n",
        "  if u_xl > jumlah_maksimal:\n",
        "    jumlah_maksimal = u_xl\n",
        "    huruf_size = \"XL\"\n",
        "\n",
        "print(\"Jumlah orang yang cocok menggunakan baju S:\", u_s)\n",
        "print(\"Jumlah orang yang cocok menggunakan baju M:\", u_m)\n",
        "print(\"Jumlah orang yang cocok menggunakan baju L:\", u_l)\n",
        "print(\"Jumlah orang yang cocok menggunakan baju XL:\", u_xl)\n",
        "print(\"Tinggi badan maksimal:\", tinggi_maksimal)\n",
        "print(\"Tinggi badan minimal:\", tinggi_minimal)\n",
        "print(\"Rata-rata:\", total_tinggi_badan/n_orang)\n",
        "print(\"Modus:\", huruf_size)"
      ],
      "metadata": {
        "id": "FyIGXOP8F3j-"
      },
      "execution_count": null,
      "outputs": []
    },
    {
      "cell_type": "code",
      "source": [
        "angka = int(input(\"Masukkan angka yang diinginkan:\" ))\n",
        "jumlah = 0\n",
        "total = 0\n",
        "\n",
        "for i in range (1, angka+1):\n",
        "  if angka % i == 0:\n",
        "    print(i)\n",
        "    jumlah = jumlah + i\n",
        "    total = jumlah - angka\n",
        "    angka == total\n",
        "print(\"Angka\", angka, \"memiliki hasil penjumlahan\", total)\n",
        "      \n"
      ],
      "metadata": {
        "id": "aJf2gGTLyZ44"
      },
      "execution_count": null,
      "outputs": []
    }
  ]
}
