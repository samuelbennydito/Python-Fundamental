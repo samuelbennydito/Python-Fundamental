{
  "nbformat": 4,
  "nbformat_minor": 0,
  "metadata": {
    "colab": {
      "name": "Konsep Dictionary",
      "private_outputs": true,
      "provenance": []
    },
    "kernelspec": {
      "name": "python3",
      "display_name": "Python 3"
    },
    "language_info": {
      "name": "python"
    }
  },
  "cells": [
    {
      "cell_type": "code",
      "source": [
        "# ini adalah konsep dictionary\n",
        "# menyimpan kumpulan data\n",
        "\n",
        "mahasiswa = {\n",
        "    \"nama\" : \"Samuel\",\n",
        "    \"kelas\" : \"B\",\n",
        "    \"no\" : 6\n",
        "}\n",
        "\n",
        "print(mahasiswa)"
      ],
      "metadata": {
        "id": "xtMw8iMbERQQ"
      },
      "execution_count": null,
      "outputs": []
    },
    {
      "cell_type": "code",
      "source": [
        "print(mahasiswa[\"nama\"])"
      ],
      "metadata": {
        "id": "M5-tEDwYwJK5"
      },
      "execution_count": null,
      "outputs": []
    },
    {
      "cell_type": "code",
      "source": [
        "mahasiswa = {\n",
        "    \"nama\" : \"Samuel\",\n",
        "    \"kelas\" : \"A\",\n",
        "    \"no\" : 6\n",
        "},{\n",
        "    \"nama\" : \"Benny\",\n",
        "   \"kelas\" : [\"B\",\"C\",\"D\"],\n",
        "   \"no\" : 3\n",
        "}\n",
        "# kalau mau manggil spesifik\n",
        "print(mahasiswa[1][\"kelas\"][1])\n",
        "print(mahasiswa[1][\"nama\"])\n",
        "print(mahasiswa[0])"
      ],
      "metadata": {
        "id": "rd2kQrjaFtE_"
      },
      "execution_count": null,
      "outputs": []
    },
    {
      "cell_type": "code",
      "source": [
        "# kalau misalnya mau manggil nama aja\n",
        "for i in range (len(mahasiswa)):\n",
        "  print(mahasiswa[i][\"nama\"])"
      ],
      "metadata": {
        "id": "UKVh2G9xIBhu"
      },
      "execution_count": null,
      "outputs": []
    },
    {
      "cell_type": "code",
      "source": [
        "myedusolve = {\n",
        "    \"nama\" : [\"Samuel\", \"Benny\", \"Dito\"],\n",
        "    \"program\" : [\"DST\", \"MOS\", \"Adobe\"]\n",
        "}\n",
        "\n",
        "print(myedusolve)"
      ],
      "metadata": {
        "id": "C1ath9hv13ef"
      },
      "execution_count": null,
      "outputs": []
    },
    {
      "cell_type": "code",
      "source": [
        "#cara menambahkan\n",
        "myedusolve.update({\"hrd\" : [\"Tirsa\", \"Dinda\"]})\n",
        "print(myedusolve)"
      ],
      "metadata": {
        "id": "roPgowJI2cXv"
      },
      "execution_count": null,
      "outputs": []
    },
    {
      "cell_type": "code",
      "source": [
        "#cara mencetak semua valuenya\n",
        "for i in myedusolve:\n",
        "  print(myedusolve[i])"
      ],
      "metadata": {
        "id": "lUeGkY_R2xKK"
      },
      "execution_count": null,
      "outputs": []
    },
    {
      "cell_type": "code",
      "source": [
        "# cara mencetak keys\n",
        "for i in myedusolve.keys():\n",
        "  print(i)"
      ],
      "metadata": {
        "id": "bOOV6-aL3hy2"
      },
      "execution_count": null,
      "outputs": []
    },
    {
      "cell_type": "code",
      "source": [
        "# menghilangkan yang dicari\n",
        "myedusolve[\"nama\"].pop(2)"
      ],
      "metadata": {
        "id": "MAfEs6hh4nFS"
      },
      "execution_count": null,
      "outputs": []
    },
    {
      "cell_type": "code",
      "source": [
        "print(myedusolve)\n"
      ],
      "metadata": {
        "id": "KeiSDbYq5KE6"
      },
      "execution_count": null,
      "outputs": []
    },
    {
      "cell_type": "code",
      "source": [
        "# menghilangkan semua value dan keys\n",
        "myedusolve.pop(\"hrd\")"
      ],
      "metadata": {
        "id": "0KBxGEcA5YcN"
      },
      "execution_count": null,
      "outputs": []
    },
    {
      "cell_type": "code",
      "source": [
        "print(myedusolve)"
      ],
      "metadata": {
        "id": "Vc4AupLB5lK9"
      },
      "execution_count": null,
      "outputs": []
    }
  ]
}
