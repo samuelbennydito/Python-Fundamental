{
  "nbformat": 4,
  "nbformat_minor": 0,
  "metadata": {
    "colab": {
      "name": "Basic Python",
      "private_outputs": true,
      "provenance": []
    },
    "kernelspec": {
      "name": "python3",
      "display_name": "Python 3"
    },
    "language_info": {
      "name": "python"
    }
  },
  "cells": [
    {
      "cell_type": "markdown",
      "source": [
        "Penggunaan bahasa pemrograman tergantung fungsinya, PHP buat website, JavaScript buat objek-oriented, Kotlin untuk android dll. Python digunakan untuk machine learning yang berkaitan dengan data science. Bahasa pemrograman berbicara tentang logika. Ujian python lebih ke praktikal.\n",
        "\n",
        "\n",
        "---\n",
        "\n",
        "\n",
        "3 Pondasi Bahasa Pemrograman:\n",
        "*  Sequence (urutan: atas - tengah - bawah)\n",
        "*  Selection (seleksi)\n",
        "*  Iteration (pengulangan)\n",
        "\n",
        "\n",
        "\n"
      ],
      "metadata": {
        "id": "6gW3aH_y8sTR"
      }
    },
    {
      "cell_type": "markdown",
      "source": [
        "Macam-macam tipe data yakni:\n",
        "\n",
        "\n",
        "*  String = Sebuah karakter yang sifatnya tidak bisa dilakukan aritmatika, contoh nomor rumah, email, nomor telpon\n",
        "* Integer = Sebuah angka atau bilangan yang nilai maksimalnya 32468\n",
        "*  Float = Sebuah bilangan desimal\n",
        "\n"
      ],
      "metadata": {
        "id": "zKSlTtSD-Q4Q"
      }
    },
    {
      "cell_type": "code",
      "source": [
        "nama2 = \"MyEduSolve\"\n",
        "print(nama2)\n",
        "\n",
        "# Ketika mengeluarkan variabel nama yang sama untuk di print, pasti akan mengeluarkan yang terbaru (diupgrade)"
      ],
      "metadata": {
        "id": "Etn2fxhe-_Fq"
      },
      "execution_count": null,
      "outputs": []
    },
    {
      "cell_type": "code",
      "source": [
        "type(nama2)\n",
        "# Mencari tipe data"
      ],
      "metadata": {
        "id": "Je5T5JMl-_84"
      },
      "execution_count": null,
      "outputs": []
    },
    {
      "cell_type": "code",
      "source": [
        "angka1 = 5\n",
        "angka2 = 6\n",
        "angka3 = 2\n",
        "type(angka1)\n",
        "\n",
        "# Aritmatika pada python\n",
        "# + = penjumlahan\n",
        "# - = penguarangan\n",
        "# * = perkalian\n",
        "# / = pembagian\n",
        "# ** = pangkat\n",
        "# () = dalam kurung"
      ],
      "metadata": {
        "id": "XwQbGpsJ_CT3"
      },
      "execution_count": null,
      "outputs": []
    },
    {
      "cell_type": "code",
      "source": [
        "hasil = angka1*angka2+angka3\n",
        "print(hasil)\n",
        "\n",
        "# Variable bisa diisi lagi dengan variabel\n",
        "# Pastikan melakukan refresh jika ada variabel baru yang dimasukkan"
      ],
      "metadata": {
        "id": "5lnGPZtl_FKQ"
      },
      "execution_count": null,
      "outputs": []
    },
    {
      "cell_type": "code",
      "source": [
        "var1 = \"Samuel\"\n",
        "print(var1)\n",
        "var1 = \"Benny\"\n",
        "print(var1)\n",
        "\n",
        "# Hal ini terjadi karena berada di blok yang sama"
      ],
      "metadata": {
        "id": "mJ0ybYRW_IDC"
      },
      "execution_count": null,
      "outputs": []
    },
    {
      "cell_type": "code",
      "source": [
        "kata1 = \"Studi\"\n",
        "kata2 = \"Independen\"\n",
        "print (kata1 + \" \" + kata2)\n",
        "print (kata1,kata2)\n",
        "\n",
        "# print(angka1/angka2)\n",
        "# Kombinasi print"
      ],
      "metadata": {
        "id": "0P4-F8RO_Kvo"
      },
      "execution_count": null,
      "outputs": []
    },
    {
      "cell_type": "code",
      "source": [
        "var_test = \"Kalkulator\"\n",
        "print (\"Ini variabel awal :\", var_test)\n",
        "var_test = \"Bukan Kalkulator\"\n",
        "print (\"Ini variabel setelah diganti :\", var_test)\n",
        "\n",
        "# Kombinasi print"
      ],
      "metadata": {
        "id": "OKMWtNA7_PHA"
      },
      "execution_count": null,
      "outputs": []
    },
    {
      "cell_type": "code",
      "source": [
        "a = 1\n",
        "b = 7\n",
        "c = 10\n",
        "x1 = (-b + ((b**2) - (4*a*c))**(1/2)) / 2*a\n",
        "x2 = (-b - ((b**2) - (4*a*c))**(1/2)) / 2*a\n",
        "print ([x1, x2])\n",
        "\n",
        "# Penggunaan Rumus ABC pada Python  Part 1"
      ],
      "metadata": {
        "id": "iuT_hWzj_UUE"
      },
      "execution_count": null,
      "outputs": []
    }
  ]
}