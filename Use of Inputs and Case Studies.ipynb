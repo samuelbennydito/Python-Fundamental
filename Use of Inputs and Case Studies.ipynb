{
  "nbformat": 4,
  "nbformat_minor": 0,
  "metadata": {
    "colab": {
      "name": "Penggunaan Input dan Studi Kasus",
      "private_outputs": true,
      "provenance": []
    },
    "kernelspec": {
      "name": "python3",
      "display_name": "Python 3"
    },
    "language_info": {
      "name": "python"
    }
  },
  "cells": [
    {
      "cell_type": "markdown",
      "source": [
        "Penggunaan Input dan Studi Kasus\n",
        "\n"
      ],
      "metadata": {
        "id": "dIsVqZaTFxoI"
      }
    },
    {
      "cell_type": "code",
      "source": [
        "variabel1 = input(\"Masukkan angka 1 : \")\n",
        "variabel2 = input(\"Masukkan angka 2 : \")\n",
        "\n",
        "print(variabel1, variabel2)\n",
        "\n",
        "hasil = variabel1 + variabel2 #variabelnya masih dalam string\n",
        "hasil_int = int(variabel1) + int(variabel2) #variabelnya sudah diubah ke integer\n",
        "\n",
        "print(hasil_int)\n"
      ],
      "metadata": {
        "id": "G_b_RfF2xjNV"
      },
      "execution_count": null,
      "outputs": []
    },
    {
      "cell_type": "code",
      "source": [
        "var1 = input(\"Masukkan sesuatu : \")\n",
        "var2 = input(\"Masukkan apa ye :\")\n",
        "\n",
        "hasil = int(var1) + int(var2)\n",
        "print(hasil)"
      ],
      "metadata": {
        "id": "-WIJSKq-5DmN"
      },
      "execution_count": null,
      "outputs": []
    },
    {
      "cell_type": "code",
      "source": [
        "coba = int(input(\"Masukkan sesuatu : \"))\n",
        "coba2 = int(input(\"Masukkan apa ye :\"))\n",
        "\n",
        "hasil = coba + coba2\n",
        "print(hasil)"
      ],
      "metadata": {
        "id": "xuGbxMDv5m3V"
      },
      "execution_count": null,
      "outputs": []
    },
    {
      "cell_type": "code",
      "source": [
        "nilai_awal = int(input(\"Masukkan nilai awal yee: \"))\n",
        "print(nilai_awal)\n",
        "\n",
        "inputan1 = int(input(\"Masukkan inputan 1: \"))\n",
        "nilai_awal = nilai_awal + inputan1\n",
        "inputan2 = int(input(\"Masukkan inputan 2: \"))\n",
        "nilai_awal = nilai_awal + inputan2\n",
        "inputan3 = int(input(\"Masukkan inputan 3: \"))\n",
        "nilai_awal = nilai_awal + inputan3\n",
        "\n",
        "print(\"Didapat hasil bahwa:\", nilai_awal)\n",
        "\n"
      ],
      "metadata": {
        "id": "nm6N2Q4c5-Id"
      },
      "execution_count": null,
      "outputs": []
    },
    {
      "cell_type": "code",
      "source": [
        "SO = int(input(\"Hay, masukin nilai SO :\"))\n",
        "VO = int(input(\"Hay, masukin nilai VO :\"))\n",
        "t = int(input(\"Hay, masukin nilai t :\"))\n",
        "a = int(input(\"Hay, masukin nilai a :\"))\n",
        "\n",
        "ST = SO + VO*t + 1/2*a*t\n",
        "\n",
        "print(\"Inputan pertama adalah :\", SO)\n",
        "print(\"Inputan kedua adalah :\", VO)\n",
        "print(\"Inputan ketiga adalah :\", t)\n",
        "print(\"Inputan keempat adalah :\", a)\n",
        "print (\"Hasilnya adalah:\", ST)"
      ],
      "metadata": {
        "id": "R8TtAKS-_snN"
      },
      "execution_count": null,
      "outputs": []
    },
    {
      "cell_type": "code",
      "source": [
        "NRP = int(input(\"Masukkan nilai NRP : \"))\n",
        "NH1 = int(input(\"Masukkan nilai harian 1 : \"))\n",
        "NH2 = int(input(\"Masukkan nilai harian 2 : \"))\n",
        "NH3 = int(input(\"Masukkan nilai harian 3 : \"))\n",
        "NHUTS = int(input(\"Masukkan nilai UTS : \"))\n",
        "NHUAS = int(input(\"Masukkan nilai UAS : \"))\n",
        "\n",
        "Total_harian = (NH1+NH2+NH3)/3\n",
        "Nilai_akhir = (Total_harian*0.33) + (NHUTS*0.3) + (NHUAS*0.4)\n",
        "\n",
        "if Nilai_akhir>=80:\n",
        "  print (\"NRP dengan 214180321 mendapatkan nilai mata kuliah dengan grade A\")\n",
        "elif Nilai_akhir>=79 and Nilai_akhir<=75:\n",
        "  print(\"NRP dengan 214180321 mendapatkan nilai mata kuliah dengan grade B\")\n",
        "elif Nilai_akhir>=74 and Nilai_akhir<=70:\n",
        "  print(\"NRP dengan 214180321 mendapatkan nilai mata kuliah dengan grade B+\")\n",
        "elif Nilai_akhir>=69 and Nilai_akhir<=65:\n",
        "  print(\"NRP dengan 214180321 mendapatkan nilai mata kuliah dengan grade C+\")\n",
        "elif Nilai_akhir>=64 and Nilai_akhir<=60:\n",
        "   print(\"NRP dengan 214180321 mendapatkan nilai mata kuliah dengan grade C\")\n",
        "elif Nilai_akhir>=59 and Nilai_akhir<=55:\n",
        "  print(\"NRP dengan 214180321 mendapatkan nilai mata kuliah dengan grade D\")\n",
        "  \n",
        "else:\n",
        "  print(\"Tidak lulus\")\n",
        "\n",
        "\n"
      ],
      "metadata": {
        "id": "tgV8tn0rFdiE"
      },
      "execution_count": null,
      "outputs": []
    }
  ]
}
