{
  "nbformat": 4,
  "nbformat_minor": 0,
  "metadata": {
    "colab": {
      "name": "Nested Loop",
      "private_outputs": true,
      "provenance": []
    },
    "kernelspec": {
      "name": "python3",
      "display_name": "Python 3"
    },
    "language_info": {
      "name": "python"
    }
  },
  "cells": [
    {
      "cell_type": "code",
      "source": [
        "for i in range (4):\n",
        "  for j in range (2):\n",
        "    print(i,j)"
      ],
      "metadata": {
        "id": "eVK9DFub3Ee8"
      },
      "execution_count": null,
      "outputs": []
    },
    {
      "cell_type": "code",
      "source": [
        "for i in range (4):\n",
        "  print(i)\n",
        "  for j in range (3):\n",
        "    print(j)"
      ],
      "metadata": {
        "id": "k2Dk7Rjcxk9g"
      },
      "execution_count": null,
      "outputs": []
    },
    {
      "cell_type": "code",
      "source": [
        "for i in range (5):\n",
        "  for j in range (5):\n",
        "    print('*', end = '  ') # parameter end berfungsi untuk melanjutkan baris setelahnya\n",
        "  print()"
      ],
      "metadata": {
        "id": "B-HMuq5xy9Wl"
      },
      "execution_count": null,
      "outputs": []
    },
    {
      "cell_type": "code",
      "source": [
        "for i in range (3): # ini baris\n",
        "  for j in range (10): # ini kolom\n",
        "    print('*', end = '  ')\n",
        "  print()"
      ],
      "metadata": {
        "id": "Bn7f79HT0kcU"
      },
      "execution_count": null,
      "outputs": []
    },
    {
      "cell_type": "code",
      "source": [
        "for i in range (2,10): # ini baris\n",
        "  for j in range (i-1): # ini kolom\n",
        "    print('*', end = ' ')\n",
        "  print()"
      ],
      "metadata": {
        "id": "w9lVtrkh1BmM"
      },
      "execution_count": null,
      "outputs": []
    },
    {
      "cell_type": "code",
      "source": [
        "for i in range (10): # ini baris\n",
        "  for j in range (i+1): # ini kolom\n",
        "    print('*', end = '  ')\n",
        "  print()"
      ],
      "metadata": {
        "id": "JI-UABcJ1Tf5"
      },
      "execution_count": null,
      "outputs": []
    },
    {
      "cell_type": "code",
      "source": [
        "for i in range (10, 0, -1): # ini baris\n",
        "  for j in range (i,0,-1): # ini kolom\n",
        "    print('*', end = '  ')\n",
        "  print()"
      ],
      "metadata": {
        "id": "6nF6dHEx2_vJ"
      },
      "execution_count": null,
      "outputs": []
    },
    {
      "cell_type": "code",
      "source": [
        "for i in range (10): # ini baris\n",
        "  for j in range (i+1): # ini kolom\n",
        "    print('*', end = '  ')\n",
        "  print()\n",
        "print()\n",
        "for i in range (10, 0, -1): # ini baris\n",
        "  for j in range (i,0,-1): # ini kolom\n",
        "    print('*', end = '  ')\n",
        "  print()"
      ],
      "metadata": {
        "id": "3rs10T2B69TK"
      },
      "execution_count": null,
      "outputs": []
    },
    {
      "cell_type": "code",
      "source": [
        "for i in range (10): # ini baris\n",
        "  for j in range (i+1): # ini kolom\n",
        "    print('*', end = '  ')\n",
        "  print()\n",
        "for i in range (9, 0, -1): # ini baris\n",
        "  for j in range (i,0,-1): # ini kolom\n",
        "    print('*', end = '  ')\n",
        "  print()"
      ],
      "metadata": {
        "id": "6eeYJkB-7oYF"
      },
      "execution_count": null,
      "outputs": []
    },
    {
      "cell_type": "code",
      "source": [
        "a = 6\n",
        "spasi = a\n",
        "\n",
        "for i in range (0,6): #buat cetak baris\n",
        "  for j in range(spasi + 1): #buat cetak spasi\n",
        "    print(' ', end = '')\n",
        "  for k in range(0,i+1): #buat cek bintang\n",
        "    print(\"*\",end = ' ')\n",
        "  spasi -= 1\n",
        "  print()"
      ],
      "metadata": {
        "id": "EvK3M7X89RT_"
      },
      "execution_count": null,
      "outputs": []
    },
    {
      "cell_type": "code",
      "source": [
        "a = 6\n",
        "spasi = a\n",
        "for i in range (6,0,-1):\n",
        "  for j in range(spasi-5):\n",
        "    print(' ', end ='')\n",
        "  for k in range(i,0,-1):\n",
        "    print(\"* \",end = '')\n",
        "  spasi += 1\n",
        "  print()\n",
        "\n",
        "a = 6\n",
        "spasi = a\n",
        "for i in range (1,6):\n",
        "  for j in range(spasi - 1):\n",
        "    print(' ', end ='')\n",
        "  for k in range(0,i+1):\n",
        "    print(\"* \",end = '')\n",
        "  spasi -= 1\n",
        "  print()"
      ],
      "metadata": {
        "id": "Hv61Y7Ks_g9m"
      },
      "execution_count": null,
      "outputs": []
    },
    {
      "cell_type": "code",
      "source": [
        "for i in range (7,0,-1):\n",
        "  print(i)"
      ],
      "metadata": {
        "id": "RHIe2jMjBerG"
      },
      "execution_count": null,
      "outputs": []
    }
  ]
}