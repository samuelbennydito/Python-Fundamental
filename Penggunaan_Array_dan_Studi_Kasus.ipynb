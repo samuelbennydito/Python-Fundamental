{
  "nbformat": 4,
  "nbformat_minor": 0,
  "metadata": {
    "colab": {
      "name": "Penggunaan Array dan Studi Kasus",
      "private_outputs": true,
      "provenance": []
    },
    "kernelspec": {
      "name": "python3",
      "display_name": "Python 3"
    },
    "language_info": {
      "name": "python"
    }
  },
  "cells": [
    {
      "cell_type": "code",
      "source": [
        "list_buah = [\"Jeruk\", \"Mangga\", \"Naga\"]\n",
        "list_warna = [\"Orange\", \"Hijau\", \"Ungu\"]\n",
        "\n",
        "for i in range (len(list_buah)):\n",
        "  print(list_buah[i], \"Warnanya\", list_warna[i])"
      ],
      "metadata": {
        "id": "2cpJmzM6fSAu"
      },
      "execution_count": null,
      "outputs": []
    },
    {
      "cell_type": "code",
      "source": [
        "variabel_baru = []\n",
        "variabel_baru2 = []\n",
        "awal = int(input(\"Masukkan jumlah yang ingin di-input: \"))\n",
        "total_nilai = 0\n",
        "tinggi_nilai = 0\n",
        "\n",
        "for i in range (awal):\n",
        "  nama_mahasiswa = str(input(\"Masukkan nama mahasiswa: \" ))\n",
        "  nilai_mahasiswa = int(input(\"Masukkan nilai mahasiswa: \" ))\n",
        "  variabel_baru.append(nama_mahasiswa)\n",
        "  variabel_baru2.append(nilai_mahasiswa)\n",
        "  total_nilai = total_nilai + nilai_mahasiswa\n",
        "\n",
        "tinggi_nilai = nilai_mahasiswa + tinggi_nilai\n",
        "\n",
        "print(\"list nama mahasiswa=\", variabel_baru)\n",
        "print(\"list nilai mahasiswa=\", variabel_baru2)\n",
        "print(\"Rata rata nilai adalah\", total_nilai/awal) \n",
        "print(\"Nilai tertinggi mahasiswa\", tinggi_nilai)\n",
        "\n",
        "variabel_baru3 = []\n",
        "nm_ubah = str(input(\"Masukkan nama mahasiswa yang ingin diubah: \"))\n",
        "#variabel_baru+variabelbaru2.remove(nm_ubah)\n",
        "nilaim_ubah = int(input(\"Masukkan nilai mahasiswa yang anda inginkan: \" ))\n",
        "\n",
        "\n",
        "print(\"list nama mahasiswa=\", variabel_baru)\n",
        "print(\"list nilai mahasiswa=\", variabel_baru2)\n"
      ],
      "metadata": {
        "id": "DYvtZwhHikbe"
      },
      "execution_count": null,
      "outputs": []
    },
    {
      "cell_type": "code",
      "source": [
        "print(\"Halo, ini pilhan menu yang tersedia\")\n",
        "print(\"Menu 1: Silahkan, masukkan nama dan nilai mahasiswa yang anda inginkan\")\n",
        "print(\"Menu 2: Rata rata nilai mahasiswa yang sudah di-input\")\n",
        "print(\"Menu 3: Nilai tertinggi dari mahasiswa yang sudah di-input\")\n",
        "print(\"Menu 4: Silahkan, revisi nama dan nilai mahasiswa yang sudah di-input\")\n",
        "print(\"Menu 5: Data nama dan nilai mahasiswa yang sudah berhasil di-input dan diperbaharui\")\n",
        "print(\"Menu 6: Program selesai\")\n",
        "\n",
        "listnamamahasiswa = []\n",
        "listnilaimahasiswa = []\n",
        "\n",
        "jumlahsiswa = 0\n",
        "masukkaninput = 0\n",
        "nilaimaksimal = 0\n",
        "penghitungnama = 0\n",
        "\n",
        "while masukkaninput != 6:\n",
        "  masukkaninput = int(input(\"Masukkan menu: \"))\n",
        "  if masukkaninput == 1:\n",
        "    namamahasiswa = str(input(\"Masukkan nama mahasiswa: \"))\n",
        "    nilaimahasiswa = int(input(\"Masukkan nilai mahasiswa: \"))\n",
        "    listnamamahasiswa.append(namamahasiswa)\n",
        "    listnilaimahasiswa.append(nilaimahasiswa)\n",
        "    '''\n",
        "    ratarata = ratarata + nilaimahasiswa\n",
        "    jumlahsiswa += 1\n",
        "    if nilaimahasiswa > nilaimaksimal:\n",
        "      nilaimaksimal = nilaimahasiswa\n",
        "      penghitungnama = jumlahsiswa-1\n",
        "    '''\n",
        "  elif masukkaninput == 2:\n",
        "    #print(\"Rata-rata nilai adalah: \", ratarata/jumlahsiswa)\n",
        "    ratarata = sum(listnilaimahasiswa)/len(listnilaimahasiswa)\n",
        "    print(\"Rata rata nilai mahasiswa adalah\", ratarata)\n",
        "  elif masukkaninput == 3:\n",
        "    #print(\"Nilai tertinggi adalah: \" + str(listnamamahasiswa[penghitungnama]) + \" \" + str(listnilaimahasiswa[penghitungnama]))\n",
        "    print(\"Mahasiswa atas nama\",  listnamamahasiswa[listnilaimahasiswa.index(max(listnilaimahasiswa))], \"merupakan mahasiswa dengan nilai tertinggi sebesar\", max(listnilaimahasiswa))\n",
        "  elif masukkaninput == 4:\n",
        "    namarevisi = input(\"Masukkan nama mahasiswa:\")\n",
        "    nilairevisi = int(input(\"Masukkan nilai revisi: \"))\n",
        "    i = listnamamahasiswa.index(namarevisi)\n",
        "    listnilaimahasiswa[i] = nilairevisi\n",
        "    print(\"Hasil nilai direvisi atas nama\", namarevisi, \"dengan nilai terbaru\", listnilaimahasiswa[i])\n",
        "  elif masukkaninput == 5:\n",
        "    #bisa pake sintaks ini juga ko\n",
        "    #for nilai in listnilaimahasiswa:\n",
        "      #print(\"Mahasiswa atas nama\", listnamamahasiswa[listnilaimahasiswa.index(nilai)], \"memiliki nilai\", nilai)\n",
        "    for i, nilai in enumerate(listnilaimahasiswa):\n",
        "      print(\"Mahasiswa atas nama\", listnamamahasiswa[i], \"mendapatkan nilai\", nilai  )\n",
        "  elif masukkaninput == 6:\n",
        "    print(\"Terimakasih, sudah selesai yaa!\")\n",
        "    break"
      ],
      "metadata": {
        "id": "BTCeu_jh_dAz"
      },
      "execution_count": null,
      "outputs": []
    },
    {
      "cell_type": "code",
      "source": [
        "#Enumerate = breakdown yang ada di list (indeks dan elemen)\n",
        "list_skor = [100, 90, 75, 88]\n",
        "print(\"total nilai =\", sum(list_skor))\n",
        "print(\"nilai maksimal =\", max(list_skor))\n"
      ],
      "metadata": {
        "id": "lL7qapF3Gty6"
      },
      "execution_count": null,
      "outputs": []
    },
    {
      "cell_type": "code",
      "source": [
        "for i, element in enumerate(list_skor):\n",
        "  print(\"indeks ke\", i)\n",
        "  print(\"adalah\", element)"
      ],
      "metadata": {
        "id": "EWjxqxVbsINF"
      },
      "execution_count": null,
      "outputs": []
    },
    {
      "cell_type": "code",
      "source": [
        "list_skor.index(90)"
      ],
      "metadata": {
        "id": "LPBxgKFHs5KX"
      },
      "execution_count": null,
      "outputs": []
    },
    {
      "cell_type": "code",
      "source": [
        "list_nama = [\"Samuel\", \"Benny\", \"Dito\", \"Ganteng\"]\n",
        "i = list_nama.index(\"Benny\")\n",
        "list_skor[i] = 80\n",
        "list_skor\n",
        "for i, nilai in enumerate(list_skor):\n",
        "  print(\"Atas nama\", list_nama[i], \"mendapatkan nilai sebesar\", nilai)"
      ],
      "metadata": {
        "id": "ap3-OtiOt7yB"
      },
      "execution_count": null,
      "outputs": []
    }
  ]
}