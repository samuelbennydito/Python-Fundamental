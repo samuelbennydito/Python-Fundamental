{
  "nbformat": 4,
  "nbformat_minor": 0,
  "metadata": {
    "colab": {
      "name": "15 Maret 2022",
      "private_outputs": true,
      "provenance": []
    },
    "kernelspec": {
      "name": "python3",
      "display_name": "Python 3"
    },
    "language_info": {
      "name": "python"
    },
    "accelerator": "GPU"
  },
  "cells": [
    {
      "cell_type": "code",
      "execution_count": null,
      "metadata": {
        "id": "qGD7A-huhzfL"
      },
      "outputs": [],
      "source": [
        "nama = \"Samuel Benny Dito\"\n",
        "print(nama)\n",
        "# Macam-macam tipe data yakni:\n",
        "# String = Sebuah karakter yang sifatnya tidak bisa dilakukan aritmatika, contoh nomor rumah, email, nomor telpon\n",
        "# Integer = Sebuah angka atau bilangan yang nilai maksimalnya 32468\n",
        "# Float = Sebuah bilangan desimal\n",
        "# Double = Sebuah angka yang lebih digunakan untuk keperluan harga atau bilangan besar\n",
        "\n"
      ]
    },
    {
      "cell_type": "code",
      "source": [
        "nama2 = \"MyEduSolve\"\n",
        "print(nama2)\n",
        "# Ketika mengeluarkan variabel nama yang sama untuk di print, pasti akan mengeluarkan yang terbaru (diupgrade)"
      ],
      "metadata": {
        "id": "q_pQf-cOkr6J"
      },
      "execution_count": null,
      "outputs": []
    },
    {
      "cell_type": "code",
      "source": [
        "type(nama2)\n",
        "# Mencari tipe data"
      ],
      "metadata": {
        "id": "g6EPDgY6lE7w"
      },
      "execution_count": null,
      "outputs": []
    },
    {
      "cell_type": "code",
      "source": [
        "angka1 = 5\n",
        "angka2 = 6\n",
        "angka3 = 2\n",
        "type(angka1)\n",
        "# Aritmatika pada python\n",
        "# + = penjumlahan\n",
        "# - = penguarangan\n",
        "# * = perkalian\n",
        "# / = pembagian\n",
        "# ** = pangkat\n",
        "# () = dalam kurung"
      ],
      "metadata": {
        "id": "w1WUm32QlOWu"
      },
      "execution_count": null,
      "outputs": []
    },
    {
      "cell_type": "code",
      "source": [
        "hasil = angka1*angka2+angka3\n",
        "print(hasil)\n",
        "# Variable bisa diisi lagi dengan variabel\n",
        "# Pastikan melakukan refresh jika ada variabel baru yang dimasukkan"
      ],
      "metadata": {
        "id": "PGRFzN74l1A6"
      },
      "execution_count": null,
      "outputs": []
    },
    {
      "cell_type": "code",
      "source": [
        "var1 = \"Samuel\"\n",
        "print(var1)\n",
        "var1 = \"Benny\"\n",
        "print(var1)\n",
        "# Hal ini terjadi karena berada di blok yang sama"
      ],
      "metadata": {
        "id": "TSmkZtZUnw40"
      },
      "execution_count": null,
      "outputs": []
    },
    {
      "cell_type": "code",
      "source": [
        "kata1 = \"Studi\"\n",
        "kata2 = \"Independen\"\n",
        "print (kata1 + \" \" + kata2)\n",
        "print (kata1,kata2)\n",
        "print(angka1/angka2)\n",
        "# Kombinasi print"
      ],
      "metadata": {
        "id": "1toTg1BFq4_D"
      },
      "execution_count": null,
      "outputs": []
    },
    {
      "cell_type": "code",
      "source": [
        "var_test = \"Kalkulator\"\n",
        "print (\"Ini variabel awal :\", var_test)\n",
        "var_test = \"Bukan Kalkulator\"\n",
        "print (\"Ini variabel setelah diganti :\", var_test)\n",
        "# Kombinasi print"
      ],
      "metadata": {
        "id": "v0dGrDeorbqz"
      },
      "execution_count": null,
      "outputs": []
    },
    {
      "cell_type": "code",
      "source": [
        "a = 1\n",
        "b = 7\n",
        "c = 10\n",
        "x1 = (-b + ((b**2) - (4*a*c))**(1/2)) / 2*a\n",
        "x2 = (-b - ((b**2) - (4*a*c))**(1/2)) / 2*a\n",
        "print ([x1, x2])\n",
        "# Penggunaan Rumus ABC pada Python  Part 1"
      ],
      "metadata": {
        "id": "XLiywMjGsMfV"
      },
      "execution_count": null,
      "outputs": []
    },
    {
      "cell_type": "code",
      "source": [
        "a = 1\n",
        "b = 7\n",
        "c = 10\n",
        "det = b**2 - 4*a*c\n",
        "x1 = (-b + (det**(1/2))) / 2*a\n",
        "x2 = (-b - (det**(1/2))) / 2*a\n",
        "print (\"Hasil pertama x1:\", x1)\n",
        "print (\"Hasil kedua x2:\", x2)\n",
        "# Penggunaan Rumus ABC pada Python Part 2"
      ],
      "metadata": {
        "id": "gaOaf9QH4GYp"
      },
      "execution_count": null,
      "outputs": []
    }
  ]
}