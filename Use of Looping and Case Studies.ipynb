{
  "nbformat": 4,
  "nbformat_minor": 0,
  "metadata": {
    "colab": {
      "name": "Penggunaan Perulangan dan Studi Kasus",
      "private_outputs": true,
      "provenance": []
    },
    "kernelspec": {
      "name": "python3",
      "display_name": "Python 3"
    },
    "language_info": {
      "name": "python"
    }
  },
  "cells": [
    {
      "cell_type": "markdown",
      "source": [
        "Konsep Perulangan\n",
        "\n",
        "For = udah tau pasti berhenti ke n\n",
        "\n",
        "While = ketika kondisi yang saya inginkan tercapai, baru berhenti\n",
        "\n",
        "Dinamis = segala sesuatu bisa berubah walau program sudah dijalankan\n",
        "\n",
        "Statis = segala sesuatu yang sudah diatur tidak bisa diubah \n",
        "\n",
        "Baiknya jika ingin melakukan ngoding, menggunakan yang dinamis"
      ],
      "metadata": {
        "id": "_bURwv57IeJC"
      }
    },
    {
      "cell_type": "code",
      "source": [
        "# Iteration adalah sebuah konsep yang memperbolehkan program itu jalan berulang\n",
        " \n",
        "print (\"Ini belum menggunakan iteration :\")\n",
        "print (\"Samuel\")\n",
        "print (\"Samuel\")\n",
        "print (\"Samuel\")\n",
        "print (\"Samuel\")\n",
        "print (\"Samuel\")\n",
        "\n",
        "# Ada dua iteration\n",
        "# 1. Iteration yang langsung ditentukan berapa banyak mau melakukan perulangan (for)\n",
        "# 2. Iteration yang hanya berulang ketika kondisi terpenuhi (while)\n",
        "\n",
        "print(\"Contoh penggunaan iteration :\")\n",
        "for i in range (5):\n",
        "  print (\"Samuel\")\n"
      ],
      "metadata": {
        "id": "LHqRDO0EX3gQ"
      },
      "execution_count": null,
      "outputs": []
    },
    {
      "cell_type": "code",
      "source": [
        "# sintaks ini\n",
        "\n",
        "for i in range (6):\n",
        "  print(i, \"Samuel -> ini pengulangan yang ke\", i)\n",
        "\n",
        "# ini artinya melakukan perulangan kurang dari 6, dengan catatan i nya mulai dari 0"
      ],
      "metadata": {
        "id": "3ZBe_vjpdAcw"
      },
      "execution_count": null,
      "outputs": []
    },
    {
      "cell_type": "code",
      "source": [
        "# ini adalah contoh ketika startnya mulai dari 1\n",
        "\n",
        "for i in range(1,6):\n",
        "  print(i, \"Samuel -> ini pengulangan yang ke\", i)"
      ],
      "metadata": {
        "id": "C_8XmEExdlYN"
      },
      "execution_count": null,
      "outputs": []
    },
    {
      "cell_type": "code",
      "source": [
        "# jika mau mundur nulisnya, seperti di bawah ini\n",
        "# formulanya adalah: end, start, step perulangan\n",
        "\n",
        "for x in range(10,0,-2):\n",
        "  print(x)"
      ],
      "metadata": {
        "id": "pQrtH0xSWXcI"
      },
      "execution_count": null,
      "outputs": []
    },
    {
      "cell_type": "code",
      "source": [
        "nilai_awal = int(input(\"Masukkan nilai awal:\"))\n",
        "nilai_akhir = int(input(\"Masukkan nilai akhir:\"))\n",
        "\n",
        "hasil = 0\n",
        "\n",
        "for i in range (nilai_awal,nilai_akhir + 1):\n",
        "  hasil = hasil + i\n",
        "print(hasil)\n"
      ],
      "metadata": {
        "id": "T1XPafUNd21H"
      },
      "execution_count": null,
      "outputs": []
    },
    {
      "cell_type": "code",
      "source": [
        "i = 1\n",
        "\n",
        "while i < 6:\n",
        "  print(\"Samuel\")\n",
        "  i = i+1"
      ],
      "metadata": {
        "id": "39CEClall_a1"
      },
      "execution_count": null,
      "outputs": []
    },
    {
      "cell_type": "code",
      "source": [
        "# Kalau mau menggunakan ini harus berurutan\n",
        "\n",
        "while i:\n",
        "  i = int(input(\"Masukkan angka yang diinginkan:\"))\n",
        "  x = 0\n",
        "  print(\"1. Menu 1\")\n",
        "  print(\"2. Menu 2\")\n",
        "  print(\"3. Menu 3\")\n",
        "  print(\"4. Menu 4\")\n",
        "  if i == 5:\n",
        "    x = x + i\n",
        "    print(\"Exit\")\n",
        "    print(\"Inputan ke:\", x)\n",
        "    break"
      ],
      "metadata": {
        "id": "XA-vA7KMo06Q"
      },
      "execution_count": null,
      "outputs": []
    },
    {
      "cell_type": "code",
      "source": [
        "input1 = int(input(\"Masukkan angka pertama:\"))\n",
        "input2 = int(input(\"Masukkan angka kedua:\"))\n",
        "input3 = str(input(\"Ketik jenis operator yang diinginkan(tambah, kurang, kali, bagi):\"))\n",
        "\n",
        "# Logika Pertambahan\n",
        "# 5+4 = 5+(1+1+1+1) = 9\n",
        "\n",
        "hasil = 0 #buatvariabelbaru\n",
        "if input3 == \"tambah\": #masukkan inpuut sesuai dengan yang diminta yaitu tambahhh\n",
        "  hasil = input1 #kita samakan dengan hasil\n",
        "  for i in range(input2): \n",
        "    hasil = hasil + 1\n",
        "\n",
        "#Logika perkurangan sama kek pertambahan, hanya berbeda di metodenya\n",
        "\n",
        "elif input3 == \"kurang\":\n",
        "  hasil = input1\n",
        "  for i in range(input2):\n",
        "    hasil = hasil - 1\n",
        "\n",
        "# Logika perkalian yakni sama kek logika pertambahan, namun ditambah input satu sebanyak n input 2\n",
        "\n",
        "elif input3 == \"kali\":\n",
        " hasil = input1\n",
        " for i in range(1, input2):\n",
        "    hasil = hasil + input1\n",
        "\n",
        "# \n",
        "elif input3 == \"bagi\":\n",
        "  hasil_kurang = input1\n",
        "  if input1>input2:\n",
        "    hasil_bagi = 0\n",
        "    while hasil_kurang != 0:\n",
        "      hasil_kurang = hasil_kurang - input2\n",
        "      hasil_bagi = hasil_bagi + 1\n",
        "    hasil = hasil_bagi\n",
        "  else:\n",
        "    print(\"Tolong, masukkan input1>input2\")\n",
        "\n",
        "print(hasil)"
      ],
      "metadata": {
        "id": "J0yf_h43goM0"
      },
      "execution_count": null,
      "outputs": []
    },
    {
      "cell_type": "code",
      "source": [
        "for i in range(5):\n",
        "  print(i)"
      ],
      "metadata": {
        "id": "CoSGjqbKm5CB"
      },
      "execution_count": null,
      "outputs": []
    }
  ]
}
