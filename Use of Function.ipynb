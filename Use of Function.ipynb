{
  "nbformat": 4,
  "nbformat_minor": 0,
  "metadata": {
    "colab": {
      "name": "Penggunaan Function",
      "private_outputs": true,
      "provenance": []
    },
    "kernelspec": {
      "name": "python3",
      "display_name": "Python 3"
    },
    "language_info": {
      "name": "python"
    }
  },
  "cells": [
    {
      "cell_type": "markdown",
      "source": [
        "Membahas mengenai function\n",
        "\n",
        "Dengan tujuan agar program terlihat rapih, harus mengggunakan function\n",
        "\n",
        "Kapan menggunakan function? \n",
        "Ketika algoritma sering digunakan pada program utama, gunakanlah fungsi"
      ],
      "metadata": {
        "id": "T-Od1JU1Oo0x"
      }
    },
    {
      "cell_type": "code",
      "source": [
        "#ini kumpulan  procedure = yang tidak mengembalikan nilai\n",
        "\n",
        "def cetaknama():\n",
        "  print(\"Samuel\")\n",
        "\n",
        "def customcetaknama(inputan):\n",
        "  print(inputan)\n",
        "\n",
        "def penjumlahan(a,b):\n",
        "  print(a+b)\n",
        "\n",
        "def perkalian(a,b):\n",
        "  hasil = a*b\n",
        "  print(hasil)\n",
        "\n",
        "def spicymayo(mayo,sambel,skm):\n",
        "  racikan = mayo+sambel+skm\n",
        "  print(racikan)\n",
        "\n",
        "#ini program utamanya\n",
        "#ketika mencetak tidak perlu memanggil menggunakan print, hanya tulis perintah saja\n",
        "\n",
        "cetaknama()\n",
        "customcetaknama(\"Samuel\")\n",
        "customcetaknama(\"Benny\")\n",
        "customcetaknama(\"Dito\")\n",
        "penjumlahan(\"sam\",\"uel\") # bisa diisi menggunakan string\n",
        "penjumlahan(3,5)\n",
        "perkalian(3,5)\n",
        "spicymayo(\"Samuel\", \"Benny\", \"Dito\")\n",
        "spicymayo(3, 5, 8)\n",
        "\n",
        "input1 = int(input(\"Masukkan angka: \")) # bisa di modify dengan inputan\n",
        "spicymayo(input1,10,13) # manggilnya dengan cara ini"
      ],
      "metadata": {
        "id": "dGrvnQaJnXAg"
      },
      "execution_count": null,
      "outputs": []
    },
    {
      "cell_type": "code",
      "source": [
        "# ini kumpulan function = yang mengembalikan nilai\n",
        "# digunakan ketika mengembalikan nilai\n",
        "\n",
        "def kalitiga(a):\n",
        "  rumusnya = a*3\n",
        "  return rumusnya\n",
        "\n",
        "def bagidua(b):\n",
        "  return b/2 \n",
        "\n",
        "# ini prosedur utama\n",
        "\n",
        "#carapertama\n",
        "hasilkt = kalitiga(6) # kalau function bisa menyimpan variabel\n",
        "print(hasilkt) # dipangiil menggunakan print\n",
        "\n",
        "#carakedua\n",
        "print(kalitiga(6))\n",
        "\n",
        "print(bagidua(10)) # dipanggil harus menggunakan print\n",
        "\n"
      ],
      "metadata": {
        "id": "-GS_uNlGryPC"
      },
      "execution_count": null,
      "outputs": []
    },
    {
      "cell_type": "code",
      "source": [
        "def persegi(sisi):\n",
        "  luas_persegi = sisi*sisi\n",
        "  return luas_persegi\n",
        "\n",
        "def persegipanjang(panjang,lebar):\n",
        "  luas_pp = panjang*lebar\n",
        "  return luas_pp\n",
        "\n",
        "def segitiga(alas,tinggi):\n",
        "  luas_segitiga = 1/2*alas*tinggi\n",
        "  return luas_segitiga\n",
        "\n",
        "print(\"Pilhan Menu\")\n",
        "print(\"Menu 1: Inputan dua sisi yang akan mencetak hasil luas persegi\")\n",
        "print(\"Menu 2: Inputan panjang dan lebar yang akan mencetak hasil luas persegi penjang\")\n",
        "print(\"Menu 3: Inputan alas dan tinggi yang akan mencetak hasil luas segitiga\")\n",
        "print(\"Selain dari itu, program selesai\")\n",
        "\n",
        "mbr = 0\n",
        "\n",
        "while mbr <= 3:\n",
        "  mbr = int(input(\"Masukkan menu yang anda inginkan: \"))\n",
        "  if mbr == 1:\n",
        "    inputs1 = int(input(\"Masukkan sisi : \"))\n",
        "    print(\"Hasil luas persegi dari inputan anda adalah :\", persegi(inputs1))\n",
        "  elif mbr == 2:\n",
        "    inputp = int(input(\"Masukkan panjang: \"))\n",
        "    inputl = int(input(\"Masukkan lebar: \"))\n",
        "    print(\"Hasil luas persegi panjang dari inputan anda adalah :\", persegipanjang(inputp,inputl))\n",
        "  elif mbr == 3:\n",
        "    inputa = int(input(\"Masukkan alas: \"))\n",
        "    inputt = int(input(\"Masukkan tinggi: \"))\n",
        "    print(\"Hasil luas segitiga dari inputan anda adalah :\", segitiga(inputa,inputt))"
      ],
      "metadata": {
        "id": "Gzt2yPfyx2US"
      },
      "execution_count": null,
      "outputs": []
    }
  ]
}
