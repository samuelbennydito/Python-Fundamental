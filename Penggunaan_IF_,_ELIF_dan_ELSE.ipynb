{
  "nbformat": 4,
  "nbformat_minor": 0,
  "metadata": {
    "colab": {
      "name": "Penggunaan IF , ELIF dan ELSE",
      "private_outputs": true,
      "provenance": []
    },
    "kernelspec": {
      "name": "python3",
      "display_name": "Python 3"
    },
    "language_info": {
      "name": "python"
    }
  },
  "cells": [
    {
      "cell_type": "markdown",
      "source": [
        "Daftar comparison operation\n",
        "* a == b -> ini adalah perbandingan sisi kiri dan sisi kanan\n",
        "* a != b -> ini adalah tidak sama dengan\n",
        "* a < b -> ini adalah lebih kecil\n",
        "* a <= b -> ini adalah lebih kecil sama dengan\n",
        "* a > b -> ini adalah lebih besar\n",
        "* a >= b -> ini adalah lebih besar sama  dengan\n",
        "\n",
        "Daftar logical operator\n",
        "* and (&) -> dan\n",
        "* or (|) -> atau\n",
        "* not -> bukan\n",
        "\n",
        "Contoh\n",
        "a += b --> a = a + b\n",
        "\n",
        "= -> ini maksudnya mengisi variabel (bukan logika matematika)\n",
        "\n",
        "\n",
        "\n",
        "\n",
        "\n",
        "\n",
        "\n"
      ],
      "metadata": {
        "id": "zII8WCIdBEFl"
      }
    },
    {
      "cell_type": "code",
      "source": [
        "a = 1\n",
        "b = 3\n",
        "\n",
        "if a>b:\n",
        "  print(\"A lebih besar dari b\")\n",
        "# Menampilkan kondisi untuk memenuhi keinginan\n",
        "elif a<b:\n",
        "  print(\"A lebih kecil dari b\")\n",
        "# Menampilkan kondisi yang berbeda dengan IF\n",
        "elif a==b:\n",
        "  print(\"A sama dengan B\")\n",
        "# Menampilan kondisi yang berbeda dengan IF\n",
        "else:\n",
        "  print(\"tampilkan ini ya kalau tidak memenuhi semua kondisi di atas\")\n",
        "# Selain kondisi di atas atau kek jalan terakhir, pilih else"
      ],
      "metadata": {
        "id": "Pcq3Ck9ItFx9"
      },
      "execution_count": null,
      "outputs": []
    },
    {
      "cell_type": "code",
      "source": [
        "angka = 25\n",
        "\n",
        "if angka>20:\n",
        "  print(\"lebih dari 20\")\n",
        "  if angka>30:\n",
        "    print(\"lebih dari 30\")\n",
        "    #IF yang kedua ini menampilkan kondisi cabang dari IF sebelumnya\n",
        "# Namanya nested IF (ada if dalam if, maksimal 3 cabang aja, karena kalau kebanyakan runningnya lambat)\n",
        "  else:\n",
        "    print(\"aman\")"
      ],
      "metadata": {
        "id": "94RGXJBfuqwA"
      },
      "execution_count": null,
      "outputs": []
    },
    {
      "cell_type": "code",
      "source": [
        "angka1 = 100\n",
        "angka2 = 300\n",
        "angka3 = 200\n",
        "\n",
        "if (angka1 > angka) or (angka2 > angka3):\n",
        "  print(\"yeayy benar\")\n",
        "# Lebih baik menggunakan kurung biar rapih"
      ],
      "metadata": {
        "id": "7s9OsfOAvqZi"
      },
      "execution_count": null,
      "outputs": []
    }
  ]
}