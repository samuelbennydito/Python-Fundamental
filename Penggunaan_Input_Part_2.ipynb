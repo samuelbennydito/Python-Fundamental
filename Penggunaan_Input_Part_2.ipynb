{
  "nbformat": 4,
  "nbformat_minor": 0,
  "metadata": {
    "colab": {
      "name": "Penggunaan Input Part 2",
      "private_outputs": true,
      "provenance": []
    },
    "kernelspec": {
      "name": "python3",
      "display_name": "Python 3"
    },
    "language_info": {
      "name": "python"
    }
  },
  "cells": [
    {
      "cell_type": "markdown",
      "source": [
        "Penggunaan Input Part 2"
      ],
      "metadata": {
        "id": "KJaANUfYHIE_"
      }
    },
    {
      "cell_type": "code",
      "source": [
        "X1 = int(input(\"Masukkan nilai X1: \"))\n",
        "Y1 = int(input(\"Masukkan nilai Y1: \"))\n",
        "X2 = int(input(\"Masukkan nilai X2: \"))\n",
        "Y2 = int(input(\"Masukkan nilai Y2: \"))\n",
        "X3 = int(input(\"Masukkan nilai X3: \"))\n",
        "Y3 = int(input(\"Masukkan nilai Y3: \"))\n",
        "X4 = int(input(\"Masukkan nilai X4: \"))\n",
        "Y4 = int(input(\"Masukkan nilai Y4: \"))\n",
        "\n",
        "A1X = X2-X1\n",
        "A2Y = Y3-Y2\n",
        "A3X = X3-X4\n",
        "A4Y = Y4-Y1\n",
        "KP = 4*A1X\n",
        "LP = A1X*A2Y\n",
        "KPP = 2*(A1X+A2Y)\n",
        "LPP = A1X*A2Y\n",
        "\n",
        "if (A1X == A3X == A4Y == A2Y):\n",
        "  print(\"Persegi dengan keliling  dan luas sebesar\")\n",
        "  print(\"Keliling\", KP)\n",
        "  print(\"Luas\", LP)\n",
        "elif ((A1X < A4Y) or (A3X > A2Y)):\n",
        "  print(\"Persegi panjang dengan keliling  dan luas sebesar\")\n",
        "  print(\"Keliling\", KPP)\n",
        "  print(\"Luas\", LPP)\n",
        "else:\n",
        "  print(\"Tidak berbentuk\")\n",
        "\n"
      ],
      "metadata": {
        "id": "mCfBpU216cf9"
      },
      "execution_count": null,
      "outputs": []
    }
  ]
}