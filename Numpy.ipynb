{
  "nbformat": 4,
  "nbformat_minor": 0,
  "metadata": {
    "colab": {
      "name": "Numpy",
      "private_outputs": true,
      "provenance": []
    },
    "kernelspec": {
      "name": "python3",
      "display_name": "Python 3"
    },
    "language_info": {
      "name": "python"
    }
  },
  "cells": [
    {
      "cell_type": "markdown",
      "source": [
        "*  Numpy sangat efisien ketika mengolah data khususnya list yang ribuan (minimum delay)\n",
        "*  Numpy lebih ke isi data frame atau mungkin lebih singkatnya numpy seperti kurir yang tugasnya hanya membawa saja ke data modeling \n",
        "* Kalau sudah masuk numpy array namanya matriks\n",
        "\n",
        "\n",
        "\n",
        "\n",
        "\n"
      ],
      "metadata": {
        "id": "0C-p4t7JXUbl"
      }
    },
    {
      "cell_type": "code",
      "source": [
        "import pandas as pd\n",
        "import numpy as np"
      ],
      "metadata": {
        "id": "ptOCLXQFXnFW"
      },
      "execution_count": null,
      "outputs": []
    },
    {
      "cell_type": "code",
      "source": [
        "contohlist = [1,2,3,4,5,6]\n",
        "\n",
        "listnumpy = np.array([1,2,3,4,5,6])\n",
        "\n",
        "# yang pasti kalau list menggunakan kurung siku, list buat python, array buat numpy\n",
        "# akan menghasilkan hasil yang sama\n",
        "\n",
        "print(contohlist)\n",
        "print(listnumpy)"
      ],
      "metadata": {
        "id": "Ut9vncM5YVyx"
      },
      "execution_count": null,
      "outputs": []
    },
    {
      "cell_type": "code",
      "source": [
        "print(type(listnumpy))\n",
        "print(type(contohlist))"
      ],
      "metadata": {
        "id": "aZFl5sLjY6bE"
      },
      "execution_count": null,
      "outputs": []
    },
    {
      "cell_type": "code",
      "source": [
        "print(listnumpy[0:2])"
      ],
      "metadata": {
        "id": "zROUWArgZizz"
      },
      "execution_count": null,
      "outputs": []
    },
    {
      "cell_type": "code",
      "source": [
        "print(listnumpy[2] + listnumpy[5])"
      ],
      "metadata": {
        "id": "QKiD7WIHZmCH"
      },
      "execution_count": null,
      "outputs": []
    },
    {
      "cell_type": "code",
      "source": [
        "# array dalam dua dimensi\n",
        "\n",
        "arr2d = np.array([[1,2,3,4,5],[6,7,8,9,10]])\n",
        "\n",
        "print(arr2d)"
      ],
      "metadata": {
        "id": "LjK5GtGBZwVH"
      },
      "execution_count": null,
      "outputs": []
    },
    {
      "cell_type": "code",
      "source": [
        "print(arr2d[0,1])\n",
        "print(arr2d[1,4])"
      ],
      "metadata": {
        "id": "xZjPlRd9bLIY"
      },
      "execution_count": null,
      "outputs": []
    },
    {
      "cell_type": "code",
      "source": [
        "arr2d[0,1] + arr2d[1,4]"
      ],
      "metadata": {
        "id": "dsDTSXRTc6MW"
      },
      "execution_count": null,
      "outputs": []
    },
    {
      "cell_type": "code",
      "source": [
        "# array dalam 3  dimensi\n",
        "\n",
        "arr3d = np.array([[[1,2,3],[4,5,6]],[[7,8,9],[10,11,12]]])\n",
        "\n",
        "print(arr3d)"
      ],
      "metadata": {
        "id": "onIIWWM6bODt"
      },
      "execution_count": null,
      "outputs": []
    },
    {
      "cell_type": "code",
      "source": [
        "print(arr3d[0,0,2])"
      ],
      "metadata": {
        "id": "fRQUD46lccG1"
      },
      "execution_count": null,
      "outputs": []
    },
    {
      "cell_type": "code",
      "source": [
        "print(arr3d[1,0,2])"
      ],
      "metadata": {
        "id": "xLU8GYPbcdoW"
      },
      "execution_count": null,
      "outputs": []
    },
    {
      "cell_type": "code",
      "source": [
        "#i = integer ---- (---- = yang paling sering digunakan)\n",
        "#b = boolean\n",
        "#u = unsigned integer\n",
        "#f = float ---\n",
        "#m = timedelta ----\n",
        "#M = datetime (kek tanggal)\n",
        "#O = object ------\n",
        "#S = string -----\n",
        "#U = unicode string"
      ],
      "metadata": {
        "id": "1HrUqY7YikcP"
      },
      "execution_count": null,
      "outputs": []
    },
    {
      "cell_type": "code",
      "source": [
        "print(arr2d.dtype)"
      ],
      "metadata": {
        "id": "jnsqLjibjgiz"
      },
      "execution_count": null,
      "outputs": []
    },
    {
      "cell_type": "code",
      "source": [
        "arrstr = np.array([\"Samuel\",\"Kezya\",\"Dito\"]) # Secara default memang akan menjadi unicode string\n",
        "# sama kek \n",
        "print(arrstr.dtype)\n",
        "arrstr = np.array([\"Samuel\",\"Kezya\",\"Dito\"], dtype = \"U\")\n",
        "print(arrstr.dtype)"
      ],
      "metadata": {
        "id": "EFVIsjmpkcNZ"
      },
      "execution_count": null,
      "outputs": []
    },
    {
      "cell_type": "code",
      "source": [
        "arrstr = np.array([\"Samuel\",\"Kezya\",\"Dito\"],dtype = \"S\") # Kalau pgn diubah  ke string kek gini\n",
        "\n",
        "print(arrstr.dtype)"
      ],
      "metadata": {
        "id": "VmKYebqDknVk"
      },
      "execution_count": null,
      "outputs": []
    },
    {
      "cell_type": "code",
      "source": [
        "# Kalau fungsi copy tidak mengubah value sebelumnya yang dimaksud indeks\n",
        "\n",
        "arrstr = np.array([\"Samuel\",\"Kezya\",\"Dito\"],dtype = \"S\")\n",
        "arrstrcopy = arrstr.copy()\n",
        "\n",
        "print(\"ini arrstrcopy: \", arrstrcopy)\n",
        "print(\"ini arrstr: \", arrstr)\n",
        "\n",
        "arrstrcopy[0] = \"Samana\"\n",
        "\n",
        "print(\"ini arrstrcopy: \", arrstrcopy)"
      ],
      "metadata": {
        "id": "ryoYETKYlDL2"
      },
      "execution_count": null,
      "outputs": []
    },
    {
      "cell_type": "code",
      "source": [
        "#Kalau view menggubah value semuanya yang dimaksud indeks\n",
        "\n",
        "arrstrview = arrstr.view()\n",
        "print( \"ini arrstrview: \",arrstrview)\n",
        "arrstrview[2] = \"Samana\"\n",
        "print(\"ini arrstrr: \", arrstr)\n",
        "print(\"ini arrstrview: \", arrstrview)"
      ],
      "metadata": {
        "id": "dmpezhNtmx0l"
      },
      "execution_count": null,
      "outputs": []
    },
    {
      "cell_type": "code",
      "source": [
        "# shape untuk mengetahui berapa dimensi\n",
        "print(arrstr.shape)"
      ],
      "metadata": {
        "id": "7jRXH_hno8yU"
      },
      "execution_count": null,
      "outputs": []
    },
    {
      "cell_type": "code",
      "source": [
        "print(arr3d.shape)"
      ],
      "metadata": {
        "id": "CdEI1TtnpSuJ"
      },
      "execution_count": null,
      "outputs": []
    },
    {
      "cell_type": "code",
      "source": [
        "print(arr2d.shape)"
      ],
      "metadata": {
        "id": "rU1rmmLtxASS"
      },
      "execution_count": null,
      "outputs": []
    },
    {
      "cell_type": "code",
      "source": [
        "#dari 1d ke 2d\n",
        "#dari 1d ke 3d juga bisa, yg penting indeksnya engga boleh kurang dan lebih\n",
        "print(listnumpy)\n",
        "print(listnumpy.shape)\n",
        "print()\n",
        "newlistnumpy = listnumpy.reshape(2,3) #sama kek 2*3 = 6\n",
        "print(newlistnumpy)\n",
        "print()\n",
        "newlistnumpy = listnumpy.reshape(3,2)\n",
        "print(newlistnumpy)"
      ],
      "metadata": {
        "id": "J_v9bhn7ssXV"
      },
      "execution_count": null,
      "outputs": []
    },
    {
      "cell_type": "code",
      "source": [
        "newlistnumpy = listnumpy.reshape(2,5) #eror dikarenakan jumlah value tidak sesuai dengan yang diminta\n",
        "print(newlistnumpy)"
      ],
      "metadata": {
        "id": "_rqYqbs1xS8n"
      },
      "execution_count": null,
      "outputs": []
    },
    {
      "cell_type": "code",
      "source": [
        "#dari 2d ke 3d\n",
        "import numpy as np\n",
        "list2d = np.array([[1,2,3,4,5,6],[7,8,9,10,11,12]])\n",
        "print(list2d)\n",
        "print(list2d.shape)\n",
        "print()\n",
        "'''\n",
        "newlistnumpy = listnumpy.reshape(2,5)\n",
        "print(newlistnumpy)\n",
        "'''\n",
        "newlistnumpy2d3d = list2d.reshape(2,3,2)\n",
        "print(newlistnumpy2d3d)\n",
        "print()\n"
      ],
      "metadata": {
        "id": "0Ig5_WYUxTGY"
      },
      "execution_count": null,
      "outputs": []
    },
    {
      "cell_type": "code",
      "source": [
        "#penggunaan for dalam numpy\n",
        "\n",
        "for i in listnumpy:\n",
        "  print(i)"
      ],
      "metadata": {
        "id": "yRKGY2_066YS"
      },
      "execution_count": null,
      "outputs": []
    },
    {
      "cell_type": "code",
      "source": [
        "# menggabungkan array 1d\n",
        "\n",
        "numpy1 = np.array([1,2,3,4,5])\n",
        "numpy2 = np.array([6,7,8,9,10])\n",
        "\n",
        "numpygabung = np.concatenate((numpy1,numpy2))\n",
        "print(numpygabung)\n",
        "\n",
        "# menggabungkan array 2d\n",
        "print()\n",
        "\n",
        "numpy1_2d = np.array([[1,2,3],[4,5,6]])\n",
        "numpy2_2d = np.array([[7,8,9],[10,11,12]])\n",
        "\n",
        "numpygabung_2d = np.concatenate((numpy1_2d,numpy2_2d), axis = 1)\n",
        "print(numpygabung_2d)\n",
        "print(numpygabung_2d.shape)\n",
        "\n",
        "\n",
        " "
      ],
      "metadata": {
        "id": "0sMxmlinDiUP"
      },
      "execution_count": null,
      "outputs": []
    },
    {
      "cell_type": "code",
      "source": [
        "#menggabungkan array 3d\n",
        "\n",
        "numpy1_3d = np.array([[[1,2,3],[4,5,6]],[[1,2,3],[4,5,6]],[[1,2,3],[4,5,6]]])\n",
        "numpy2_3d = np.array([[[7,8,9],[10,11,12]],[[7,8,9],[10,11,12]],[[7,8,9],[10,11,12]]])\n",
        "\n",
        "numpygabung_3d = np.concatenate((numpy1_3d,numpy2_3d), axis = 2)\n",
        "print(numpygabung_3d)\n",
        "print(numpygabung_3d.shape)\n"
      ],
      "metadata": {
        "id": "3fS4yLJJIK0K"
      },
      "execution_count": null,
      "outputs": []
    },
    {
      "cell_type": "code",
      "source": [
        "#Cara Membuat Dummy Aray\n",
        "import numpy as np\n",
        "arr_satu = np.ones((3,7))\n",
        "arr_satu"
      ],
      "metadata": {
        "id": "J6E1N1coR_-E"
      },
      "execution_count": null,
      "outputs": []
    },
    {
      "cell_type": "code",
      "source": [
        "arr_satu.reshape(3, 7)"
      ],
      "metadata": {
        "id": "49kR8GPfSScH"
      },
      "execution_count": null,
      "outputs": []
    },
    {
      "cell_type": "code",
      "source": [
        "arr_satu.transpose()"
      ],
      "metadata": {
        "id": "u3vq48CZYmyP"
      },
      "execution_count": null,
      "outputs": []
    },
    {
      "cell_type": "code",
      "source": [
        "arr_nol = np.zeros((5,2))\n",
        "arr_nol\n"
      ],
      "metadata": {
        "id": "HZCB7-5rSDme"
      },
      "execution_count": null,
      "outputs": []
    },
    {
      "cell_type": "code",
      "source": [
        "arr_nol.reshape(2, 5)"
      ],
      "metadata": {
        "id": "lTzYdTfeSJys"
      },
      "execution_count": null,
      "outputs": []
    },
    {
      "cell_type": "code",
      "source": [
        "dummy_first = np.arange(1, 5) # 1<=x<5\n"
      ],
      "metadata": {
        "id": "P2Lf_l9iUsfU"
      },
      "execution_count": null,
      "outputs": []
    },
    {
      "cell_type": "code",
      "source": [
        "np.size(dummy_first)"
      ],
      "metadata": {
        "id": "liRHHMYnU9ft"
      },
      "execution_count": null,
      "outputs": []
    },
    {
      "cell_type": "code",
      "source": [
        "dummy_first"
      ],
      "metadata": {
        "id": "flsVyEOiUxbe"
      },
      "execution_count": null,
      "outputs": []
    },
    {
      "cell_type": "code",
      "source": [
        "np.sum(dummy_first)"
      ],
      "metadata": {
        "id": "cWMAl-ZrUz2c"
      },
      "execution_count": null,
      "outputs": []
    },
    {
      "cell_type": "code",
      "source": [
        "dummy_first_ = dummy_first.reshape(2,2)\n",
        "dummy_first_"
      ],
      "metadata": {
        "id": "PXG2ybQUVJi0"
      },
      "execution_count": null,
      "outputs": []
    },
    {
      "cell_type": "markdown",
      "source": [
        "Split berfungsi untuk memisahkan dari satu dimensi menjadi  dua dimensi (biasanya), agar memudahkan dalam mengolah data"
      ],
      "metadata": {
        "id": "GyVHHiSdhfoH"
      }
    },
    {
      "cell_type": "code",
      "source": [
        "import numpy as np"
      ],
      "metadata": {
        "id": "hHFrvr3bhjiv"
      },
      "execution_count": null,
      "outputs": []
    },
    {
      "cell_type": "code",
      "source": [
        "arrsplit = np.array([1,2,3,4,5,6,7,8,9,10,11,12])\n",
        "newarr = np.array_split(arrsplit,3)\n",
        "print(newarr)"
      ],
      "metadata": {
        "id": "VvCjn7plhm8p"
      },
      "execution_count": null,
      "outputs": []
    },
    {
      "cell_type": "code",
      "source": [
        "print(newarr[0])"
      ],
      "metadata": {
        "id": "CNigOMUbtG-W"
      },
      "execution_count": null,
      "outputs": []
    },
    {
      "cell_type": "code",
      "source": [
        "newarr2d = np.array_split(numpy1_2d,3)\n",
        "print(newarr2d)"
      ],
      "metadata": {
        "id": "8dGDbzuftho2"
      },
      "execution_count": null,
      "outputs": []
    },
    {
      "cell_type": "code",
      "source": [
        "newarr2d = np.array_split(numpy1_2d,2)\n",
        "print(newarr2d)"
      ],
      "metadata": {
        "id": "3ILAJfUWtic7"
      },
      "execution_count": null,
      "outputs": []
    },
    {
      "cell_type": "code",
      "source": [
        "newarr2d = np.array_split(numpy1_2d,1)\n",
        "print(newarr2d)"
      ],
      "metadata": {
        "id": "zP6v9c18tkQA"
      },
      "execution_count": null,
      "outputs": []
    },
    {
      "cell_type": "code",
      "source": [
        "#mencari indeks yang diminta\n",
        "angkadicari = np.where(arrsplit == 7)\n",
        "print(angkadicari)"
      ],
      "metadata": {
        "id": "1xPYyDSAuOBO"
      },
      "execution_count": null,
      "outputs": []
    },
    {
      "cell_type": "code",
      "source": [
        "#memanggilnya kembali\n",
        "arrsplit[angkadicari]"
      ],
      "metadata": {
        "id": "Rq2x9l28uSR_"
      },
      "execution_count": null,
      "outputs": []
    },
    {
      "cell_type": "code",
      "source": [
        "arrdicari = np.array([1,2,2,3,4,5,6,2,2,2,5,6,7,9,10])\n",
        "\n",
        "arrcari = np.where(arrdicari == 2)\n",
        "print(arrcari)"
      ],
      "metadata": {
        "id": "l9Q7joVHuiel"
      },
      "execution_count": null,
      "outputs": []
    },
    {
      "cell_type": "code",
      "source": [
        "#output memberitahukan indeks yang ke berapa\n",
        "arrcarigenap = np.where(arrdicari % 2 == 0) #mencari nilai genapp\n",
        "print(arrcarigenap)"
      ],
      "metadata": {
        "id": "8snHFP6YB92c"
      },
      "execution_count": null,
      "outputs": []
    },
    {
      "cell_type": "code",
      "source": [
        "# mencari yang paling pertama muncul\n",
        "arrberurut = np.searchsorted(arrdicari,2)\n",
        "print(arrberurut)"
      ],
      "metadata": {
        "id": "aL_Kt_Z-Cken"
      },
      "execution_count": null,
      "outputs": []
    },
    {
      "cell_type": "code",
      "source": [
        "#mencari dari kanan\n",
        "arrberurut = np.searchsorted(arrdicari,2,side=\"right\")\n",
        "print(arrberurut)\n"
      ],
      "metadata": {
        "id": "MqEkVrXHCobi"
      },
      "execution_count": null,
      "outputs": []
    },
    {
      "cell_type": "code",
      "source": [
        "#mencari dua nilai\n",
        "arrberurut = np.searchsorted(arrdicari,[2,5,7,9],side=\"right\")\n",
        "print(arrberurut)"
      ],
      "metadata": {
        "id": "X-7fn2nKDV_N"
      },
      "execution_count": null,
      "outputs": []
    },
    {
      "cell_type": "code",
      "source": [
        "arrberurut = np.searchsorted(arrdicari,2)\n",
        "print(\"ini indeks ke berapa: \", arrberurut)\n",
        "print(\"ini isi indeksnya: \", arrdicari[arrberurut])"
      ],
      "metadata": {
        "id": "KBTofjNzDsh2"
      },
      "execution_count": null,
      "outputs": []
    },
    {
      "cell_type": "code",
      "source": [
        "#mengurutkan abjad string\n",
        "\n",
        "contoharr = np.array([\"amerika\",\"kanada\",\"china\",\"indonesia\",\"korea\",\"jerman\"])\n",
        "arrurut = np.sort(contoharr)\n",
        "print(\"ini sebelum diurutkan :\", contoharr)\n",
        "print(\"ini sesudah diurutkan :\", arrurut)\n"
      ],
      "metadata": {
        "id": "i4ckyvb4D3IK"
      },
      "execution_count": null,
      "outputs": []
    },
    {
      "cell_type": "code",
      "source": [
        "#mengurutkan integer dua dimensi\n",
        "\n",
        "numpy1_2d_acak = np.array([[2,1,3],[5,6,4]])\n",
        "print(np.sort(numpy1_2d_acak))"
      ],
      "metadata": {
        "id": "g8vIHzj_EJBL"
      },
      "execution_count": null,
      "outputs": []
    },
    {
      "cell_type": "code",
      "source": [
        "#mengeliminasi berdasarkan nilai true(boolean)\n",
        "\n",
        "hasilfilter = [True,True,False,True,True,False]\n",
        "newhasilfilter = contoharr[hasilfilter]\n",
        "print(\"ini sebelum filter:\", contoharr)\n",
        "print(\"ini sesudah filter: \", newhasilfilter)"
      ],
      "metadata": {
        "id": "dBBgd7VAEPbE"
      },
      "execution_count": null,
      "outputs": []
    },
    {
      "cell_type": "code",
      "source": [
        "# Melakukan filter berdasarkan yg kita inginkan\n",
        "\n",
        "hasilfiltercondition = contoharr == \"amerika\"\n",
        "newhasilfiltercondition = contoharr[hasilfiltercondition]\n",
        "print(\"ini sebelum filter kondisi :\", contoharr)\n",
        "print(\"ini sesudah filter kondisi :\", newhasilfiltercondition)"
      ],
      "metadata": {
        "id": "kQikpZwkErUl"
      },
      "execution_count": null,
      "outputs": []
    },
    {
      "cell_type": "markdown",
      "source": [
        "Menghitung matematika di python = math pyhton documentation\n",
        "\n",
        "Random juga bisa, kek  random range dan randomint, yang sering dipake"
      ],
      "metadata": {
        "id": "dSBudY0ciw7h"
      }
    }
  ]
}