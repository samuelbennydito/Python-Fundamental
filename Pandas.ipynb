{
  "nbformat": 4,
  "nbformat_minor": 0,
  "metadata": {
    "colab": {
      "name": "Pandas",
      "private_outputs": true,
      "provenance": []
    },
    "kernelspec": {
      "name": "python3",
      "display_name": "Python 3"
    },
    "language_info": {
      "name": "python"
    }
  },
  "cells": [
    {
      "cell_type": "code",
      "source": [
        "# Pandas singkatnya excel di dalam python\n",
        "# Karena  pandas library jadi manggilnya harus menggunakan import\n",
        "\n",
        "import pandas as pd\n",
        "\n",
        "isianpanda = {\n",
        "    \"nama\" : [\"Kezya\",\"Samuel\",\"Sherryn\"],\n",
        "   \"nilai\" : [80,90,100],\n",
        "}\n",
        "\n",
        "print(type(isianpanda))\n",
        "my_df = pd.DataFrame(isianpanda)\n",
        "print(type(my_df))"
      ],
      "metadata": {
        "id": "nm6WKfYCEXyn"
      },
      "execution_count": null,
      "outputs": []
    },
    {
      "cell_type": "code",
      "source": [
        "print(isianpanda)"
      ],
      "metadata": {
        "id": "fpyMMQ3XHKor"
      },
      "execution_count": null,
      "outputs": []
    },
    {
      "cell_type": "code",
      "source": [
        "print(my_df)"
      ],
      "metadata": {
        "id": "Nd5jhNesHOQY"
      },
      "execution_count": null,
      "outputs": []
    },
    {
      "cell_type": "code",
      "source": [
        "kolombaru = {\n",
        "    \"kota\" : [\"Serang\", \"Tangerang\", \"Jakarta\"]\n",
        "}\n"
      ],
      "metadata": {
        "id": "os9kE_dfHo92"
      },
      "execution_count": null,
      "outputs": []
    },
    {
      "cell_type": "code",
      "source": [
        "#Series digunakan untuk mengambil kolom saja, mengambil dalam artian mengcopy, kalau di excel kek copy dari sheet 1 ke sheet 2\n",
        "\n",
        "simpankolom = pd.Series(my_df[\"nilai\"])"
      ],
      "metadata": {
        "id": "d2nouij7Iy3C"
      },
      "execution_count": null,
      "outputs": []
    },
    {
      "cell_type": "code",
      "source": [
        "print(simpankolom)"
      ],
      "metadata": {
        "id": "mBmrESMtI-Ix"
      },
      "execution_count": null,
      "outputs": []
    },
    {
      "cell_type": "code",
      "source": [
        "# belajar lokasi (indeks)\n",
        "\n",
        "print(my_df.loc[0:1]) # konsepnya sama kek array, yang start stop step"
      ],
      "metadata": {
        "id": "Y90hY3URJtze"
      },
      "execution_count": null,
      "outputs": []
    },
    {
      "cell_type": "code",
      "source": [
        "# cara menambahkan kolom pada dataframe\n",
        "\n",
        "kota = [\"Serang\", \"Tangerang\", \"Jakarta\"]\n",
        "\n",
        "my_df[\"alamat\"] = kota\n",
        "\n",
        "print(my_df) # cara menambahkan kolom namun menambahkannya di kanan saja\n",
        "\n",
        "my_df.insert(2, \"umur\", [12,13,14], True)\n",
        "print(my_df) # cara menambahkan kolom sesuai dengan keinginan kita"
      ],
      "metadata": {
        "id": "Ahrwaa--KKPX"
      },
      "execution_count": null,
      "outputs": []
    },
    {
      "cell_type": "code",
      "source": [
        "# untuk melakukan import\n",
        "import pandas as pd\n",
        "sales_df = pd.read_csv(\"Sales-products.csv\")\n",
        "sales_df"
      ],
      "metadata": {
        "id": "URZe_JQEP_vY"
      },
      "execution_count": null,
      "outputs": []
    },
    {
      "cell_type": "code",
      "source": [
        "sales_df.info() # untuk melihat informasi pada data"
      ],
      "metadata": {
        "id": "Xviv0-VUQ87R"
      },
      "execution_count": null,
      "outputs": []
    },
    {
      "cell_type": "code",
      "source": [
        "sales_df.head(5) # menampilkan 5 data teratas"
      ],
      "metadata": {
        "id": "G9J3zz3bRCQR"
      },
      "execution_count": null,
      "outputs": []
    },
    {
      "cell_type": "code",
      "source": [
        "sales_df.tail(5) # menampilkan 5 data terbawah"
      ],
      "metadata": {
        "id": "jC-FzyzeRI9e"
      },
      "execution_count": null,
      "outputs": []
    },
    {
      "cell_type": "code",
      "source": [
        "sales_df.describe() #menampilkan tipe data yang float"
      ],
      "metadata": {
        "id": "GdDd--FNRaT7"
      },
      "execution_count": null,
      "outputs": []
    },
    {
      "cell_type": "code",
      "source": [
        "#menghapus nilai yang kosong\n",
        "\n",
        "df_dropna = sales_df.copy() #copy dataframe\n",
        "\n",
        "df_dropna.dropna(inplace=True) #mengeliminasi SEMUA value yang NA (dicek berdaasarkan baris), NA = kosong\n",
        "\n",
        "df_dropna.info()"
      ],
      "metadata": {
        "id": "OTU4VZy2T4Uz"
      },
      "execution_count": null,
      "outputs": []
    },
    {
      "cell_type": "code",
      "source": [
        "df_dropna.describe()\n"
      ],
      "metadata": {
        "id": "_uBpztkGUBuw"
      },
      "execution_count": null,
      "outputs": []
    },
    {
      "cell_type": "code",
      "source": [
        "# mengisi nilai yang kosong\n",
        "\n",
        "df_fillna = sales_df.copy()\n",
        "\n",
        "df_fillna[\"OrderMethod\"].fillna(\"Sales visit\", inplace = True)\n",
        "df_fillna.info() "
      ],
      "metadata": {
        "id": "19rKHMcHWqrb"
      },
      "execution_count": null,
      "outputs": []
    },
    {
      "cell_type": "code",
      "source": [
        "df_fillna"
      ],
      "metadata": {
        "id": "OFSfEyo_tVHP"
      },
      "execution_count": null,
      "outputs": []
    },
    {
      "cell_type": "code",
      "source": [
        "# mengisi dengan median\n",
        "\n",
        "median_revenue = sales_df[\"Revenue\"].median()\n",
        "\n",
        "print(median_revenue)"
      ],
      "metadata": {
        "id": "JwV4_tsUXuWx"
      },
      "execution_count": null,
      "outputs": []
    },
    {
      "cell_type": "code",
      "source": [
        "df_fillna[\"Revenue\"].fillna(median_revenue, inplace = True)\n",
        "df_fillna.info()"
      ],
      "metadata": {
        "id": "thowMXIGX0ne"
      },
      "execution_count": null,
      "outputs": []
    },
    {
      "cell_type": "code",
      "source": [
        "# Perubahan tipe data yang paling sering adalah string, integer dan float\n",
        "\n",
        "df_changedt = sales_df.copy() #membuat variabel baru dulu\n",
        "df_changedt.info()\n"
      ],
      "metadata": {
        "id": "kY2H0ULXO6qx"
      },
      "execution_count": null,
      "outputs": []
    },
    {
      "cell_type": "code",
      "source": [
        "#cara 1 mengubah tipe data\n",
        "df_changedt[\"Year\"] = df_changedt[\"Year\"].astype(str) #mengubah tipe data menjadi string agar data typenya menjadi object untuk keperluan mengolah data tsb lebih lanjut lagi\n",
        "df_changedt.info()"
      ],
      "metadata": {
        "id": "3v_a0SUyQexn"
      },
      "execution_count": null,
      "outputs": []
    },
    {
      "cell_type": "code",
      "source": [
        "df_changedt[\"Year\"] = pd.to_datetime(df_changedt[\"Year\"]) #ini sintaks buat  mengubah data ke datatime (lihat yang year), tapi memang sengaja eror karena datanya tidak sesuai\n",
        "df_changedt.info()"
      ],
      "metadata": {
        "id": "4hx5n7WXS-oW"
      },
      "execution_count": null,
      "outputs": []
    },
    {
      "cell_type": "code",
      "source": [
        "#cara 2 mengubah tipe data\n",
        "df_changedt[\"Year\"] = df_changedt[\"Year\"].apply(str)\n",
        "df_changedt.info()"
      ],
      "metadata": {
        "id": "rmPae787TEuj"
      },
      "execution_count": null,
      "outputs": []
    },
    {
      "cell_type": "code",
      "source": [
        "#cara 3 mengubah tipe data\n",
        "df_changedt[\"Year\"] = df_changedt[\"Year\"].map(str)\n",
        "df_changedt.info()"
      ],
      "metadata": {
        "id": "H7k24ggBVcC4"
      },
      "execution_count": null,
      "outputs": []
    },
    {
      "cell_type": "code",
      "source": [
        "df_changedt.head(5)"
      ],
      "metadata": {
        "id": "z3CIJBMYVhQS"
      },
      "execution_count": null,
      "outputs": []
    },
    {
      "cell_type": "code",
      "source": [
        "df_changedt[\"Year\"] = df_changedt[\"Year\"].str[:4] #pada kolom tahun, diubah datanya untuk diambil 4 terdepan aja\n",
        "\n",
        "df_changedt.sample(20)"
      ],
      "metadata": {
        "id": "Z6WD710TVjuL"
      },
      "execution_count": null,
      "outputs": []
    },
    {
      "cell_type": "code",
      "source": [
        "df_changedt[\"SaleID\"] = df_changedt[\"SaleID\"].str[7:] # pada kolom salesid, diambil angkanya aja, kalau angkanya ga jelas artinya ketimpa tu angkanya, jalankan ulang kembali\n",
        "\n",
        "df_changedt.sample(20)"
      ],
      "metadata": {
        "id": "eB_V8J7nV3B0"
      },
      "execution_count": null,
      "outputs": []
    },
    {
      "cell_type": "code",
      "source": [
        "#membuat kolom baru berdasarkan kolom yang sudah ada\n",
        "df_changedt[\"PriceQty\"] = df_changedt[\"Revenue\"] / df_changedt[\"Quantity\"]\n",
        "\n",
        "df_changedt.info()"
      ],
      "metadata": {
        "id": "oHwj1ZQzaIC9"
      },
      "execution_count": null,
      "outputs": []
    },
    {
      "cell_type": "code",
      "source": [
        "df_changedt.sample(5)"
      ],
      "metadata": {
        "id": "xpwpD_sBbB6g"
      },
      "execution_count": null,
      "outputs": []
    },
    {
      "cell_type": "code",
      "source": [
        "#menghapus semua baris yang sama \n",
        "\n",
        "df_dropduplicate = sales_df.copy()\n",
        "\n",
        "df_dropduplicate.drop_duplicates(inplace = True)\n",
        "\n",
        "df_dropduplicate.info()"
      ],
      "metadata": {
        "id": "J_X0pQwvbXHJ"
      },
      "execution_count": null,
      "outputs": []
    },
    {
      "cell_type": "code",
      "source": [
        "df_dropduplicate.loc[4:5]"
      ],
      "metadata": {
        "id": "vX-w6g4mct31"
      },
      "execution_count": null,
      "outputs": []
    },
    {
      "cell_type": "code",
      "source": [
        "#mengambil isi kolom ordermethod yang isinya fax aja (satu kondisi)\n",
        "\n",
        "df_dropduplicate.loc[df_dropduplicate[\"OrderMethod\"] == \"Fax\"]"
      ],
      "metadata": {
        "id": "kQi0u80nc6-s"
      },
      "execution_count": null,
      "outputs": []
    },
    {
      "cell_type": "code",
      "source": [
        "#mengambil dua kondisi pada kolom berbeda, tapi kalau di satu kolom yg sama jg bisa\n",
        "\n",
        "df_dropduplicate.loc[(df_dropduplicate[\"OrderMethod\"] == \"Fax\") & (df_dropduplicate[\"RetailerCountry\"] == \"Singapore\")]"
      ],
      "metadata": {
        "id": "Mb5gPPrzdpGR"
      },
      "execution_count": null,
      "outputs": []
    },
    {
      "cell_type": "code",
      "source": [
        "df_dropduplicate.loc[(df_dropduplicate[\"OrderMethod\"] == \"Fax\") & (df_dropduplicate[\"RetailerCountry\"] == \"Singapore\")].loc[325:328]"
      ],
      "metadata": {
        "id": "xFrMyQMJfBeU"
      },
      "execution_count": null,
      "outputs": []
    }
  ]
}